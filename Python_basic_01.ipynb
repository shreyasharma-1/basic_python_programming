{
 "cells": [
  {
   "cell_type": "code",
   "execution_count": 1,
   "id": "07ad7b3e",
   "metadata": {},
   "outputs": [
    {
     "name": "stdout",
     "output_type": "stream",
     "text": [
      "hello world!\n"
     ]
    }
   ],
   "source": [
    "#common line in python code \n",
    "print(\"hello world!\")"
   ]
  },
  {
   "cell_type": "code",
   "execution_count": 1,
   "id": "c4a5f069",
   "metadata": {},
   "outputs": [
    {
     "name": "stdout",
     "output_type": "stream",
     "text": [
      "1749\n"
     ]
    }
   ],
   "source": [
    "#basic of variables \n",
    "num_1 = 980\n",
    "num_2 = 769\n",
    "#adding two numbers \n",
    "answer = num_1 + num_2 \n",
    "print(answer)"
   ]
  },
  {
   "cell_type": "code",
   "execution_count": 3,
   "id": "c37f46ba",
   "metadata": {},
   "outputs": [
    {
     "name": "stdout",
     "output_type": "stream",
     "text": [
      "<class 'int'>\n"
     ]
    }
   ],
   "source": [
    "#identification of datatype case 1\n",
    "value_1 = type(2346)\n",
    "print(value_1)"
   ]
  },
  {
   "cell_type": "code",
   "execution_count": 7,
   "id": "f037601c",
   "metadata": {},
   "outputs": [
    {
     "name": "stdout",
     "output_type": "stream",
     "text": [
      "<class 'bool'>\n"
     ]
    }
   ],
   "source": [
    "#case 2\n",
    "value_2 = type(True)\n",
    "print(value_2)"
   ]
  },
  {
   "cell_type": "code",
   "execution_count": 8,
   "id": "b8fc331b",
   "metadata": {},
   "outputs": [
    {
     "name": "stdout",
     "output_type": "stream",
     "text": [
      "<class 'str'>\n"
     ]
    }
   ],
   "source": [
    "#case 3\n",
    "value_3 = type(\"Hello world!\")\n",
    "print(value_3)"
   ]
  },
  {
   "cell_type": "code",
   "execution_count": 9,
   "id": "ed40f1a0",
   "metadata": {},
   "outputs": [
    {
     "name": "stdout",
     "output_type": "stream",
     "text": [
      "<class 'float'>\n"
     ]
    }
   ],
   "source": [
    "#case 4\n",
    "value_4 = type(748.76)\n",
    "print(value_4)"
   ]
  },
  {
   "cell_type": "code",
   "execution_count": 13,
   "id": "848eee57",
   "metadata": {},
   "outputs": [
    {
     "name": "stdout",
     "output_type": "stream",
     "text": [
      "66\n"
     ]
    }
   ],
   "source": [
    "#addition of numbers \n",
    "val1 = 22\n",
    "val2 = 44\n",
    "sum = val1 + val2\n",
    "print(sum)"
   ]
  },
  {
   "cell_type": "code",
   "execution_count": 14,
   "id": "680647b7",
   "metadata": {},
   "outputs": [
    {
     "name": "stdout",
     "output_type": "stream",
     "text": [
      "4.0\n"
     ]
    }
   ],
   "source": [
    "#divison rule \n",
    "num1 = 16\n",
    "num2 = 4\n",
    "div = num1/num2\n",
    "print(div)"
   ]
  },
  {
   "cell_type": "code",
   "execution_count": 19,
   "id": "b19caa14",
   "metadata": {},
   "outputs": [
    {
     "name": "stdout",
     "output_type": "stream",
     "text": [
      "My name is \n",
      "xyz\n"
     ]
    }
   ],
   "source": [
    "#slicing the strings\n",
    "sentence = \"My name is \\nxyz\"\n",
    "print(sentence)"
   ]
  },
  {
   "cell_type": "code",
   "execution_count": 20,
   "id": "f04481e4",
   "metadata": {},
   "outputs": [
    {
     "name": "stdout",
     "output_type": "stream",
     "text": [
      "Hello \n",
      "programmers!\n"
     ]
    }
   ],
   "source": [
    "print(\"Hello \\nprogrammers!\")"
   ]
  },
  {
   "cell_type": "code",
   "execution_count": 23,
   "id": "229b31a5",
   "metadata": {},
   "outputs": [
    {
     "name": "stdout",
     "output_type": "stream",
     "text": [
      "hello buddies!\n",
      "wellcome to my github profile\n"
     ]
    }
   ],
   "source": [
    "print(\"hello buddies!\\nwellcome to my github profile\")"
   ]
  },
  {
   "cell_type": "code",
   "execution_count": 2,
   "id": "47deb517",
   "metadata": {},
   "outputs": [
    {
     "name": "stdout",
     "output_type": "stream",
     "text": [
      "MY NAME IS SHREYA SHARMA\n"
     ]
    }
   ],
   "source": [
    "#basic string method \n",
    "sentence = \"My name is Shreya sharma\"\n",
    "#using upper function\n",
    "value = sentence.upper()\n",
    "print(value)"
   ]
  },
  {
   "cell_type": "code",
   "execution_count": 3,
   "id": "f314c802",
   "metadata": {},
   "outputs": [
    {
     "name": "stdout",
     "output_type": "stream",
     "text": [
      "enter your name: SHREYA SHARMA\n",
      "shreya sharma\n"
     ]
    }
   ],
   "source": [
    "#using lower function by taking user input\n",
    "Name = str(input(\"enter your name: \"))\n",
    "print(Name.lower())"
   ]
  },
  {
   "cell_type": "code",
   "execution_count": 31,
   "id": "2c48e1ab",
   "metadata": {},
   "outputs": [
    {
     "name": "stdout",
     "output_type": "stream",
     "text": [
      "This is a sentence\n"
     ]
    }
   ],
   "source": [
    "#using capitalizing function \n",
    "sen = \"this Is a Sentence\"\n",
    "print(sen.capitalize())"
   ]
  }
 ],
 "metadata": {
  "kernelspec": {
   "display_name": "Python 3 (ipykernel)",
   "language": "python",
   "name": "python3"
  },
  "language_info": {
   "codemirror_mode": {
    "name": "ipython",
    "version": 3
   },
   "file_extension": ".py",
   "mimetype": "text/x-python",
   "name": "python",
   "nbconvert_exporter": "python",
   "pygments_lexer": "ipython3",
   "version": "3.9.12"
  }
 },
 "nbformat": 4,
 "nbformat_minor": 5
}
